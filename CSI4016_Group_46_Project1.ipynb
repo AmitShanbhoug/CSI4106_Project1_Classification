{
  "nbformat": 4,
  "nbformat_minor": 0,
  "metadata": {
    "colab": {
      "provenance": [],
      "collapsed_sections": [],
      "include_colab_link": true
    },
    "kernelspec": {
      "name": "python3",
      "display_name": "Python 3"
    },
    "language_info": {
      "name": "python"
    }
  },
  "cells": [
    {
      "cell_type": "markdown",
      "metadata": {
        "id": "view-in-github",
        "colab_type": "text"
      },
      "source": [
        "<a href=\"https://colab.research.google.com/github/AmitShanbhoug/CSI4106_Project1_Classification/blob/main/CSI4016_Group_46_Project1.ipynb\" target=\"_parent\"><img src=\"https://colab.research.google.com/assets/colab-badge.svg\" alt=\"Open In Colab\"/></a>"
      ]
    },
    {
      "cell_type": "markdown",
      "source": [
        "# **Predicting Heart Disease in U.S Adults from key personal indicators using Naive Bayes, Logistic Regression, and Multi-Layer Preceptron learning algorithms**\n",
        "---\n",
        "**Prepared for**: CSI 4106, Introduction to Artificial Intelligence: Project 1, Classification Empirical Study\n",
        "\n",
        "**Prepared by**: Group 46\n",
        "\n",
        "1. Feyi Adesanya, 300120992\n",
        "2. Amit Shanbhoug, 8677407\n",
        "\n",
        "**Submission Date**: November 1, 2022\n",
        "\n",
        "**Project Repository**: https://github.com/AmitShanbhoug/CSI4106_Project1_Classification.git\n",
        "\n",
        "**Dataset Source**: https://www.kaggle.com/datasets/kamilpytlak/personal-key-indicators-of-heart-disease"
      ],
      "metadata": {
        "id": "bqMAGbzWZJ_v"
      }
    },
    {
      "cell_type": "markdown",
      "source": [
        "# **1. Understand the classification task for your dataset**\n",
        "\n",
        "---\n",
        "\n",
        "\n"
      ],
      "metadata": {
        "id": "9BGHEgZtXcr7"
      }
    },
    {
      "cell_type": "markdown",
      "source": [
        "Our selected dataset, *Personal Key Indicators of Heart Disease* is from a 2020 annual Center for Disease Control (CDC) survey of 400k adults in the United States (U.S), specifically from the Behavioral Risk Factor Surveillance System. We note that the CDC is a reliable source for health data as well as the recency of the data (2020), which allows us to form relevant conclusions and next steps. Further, we note that the dataset contains a binary variable *HeartDisease* - respondents indicated whether they have heart disease. \n",
        "\n",
        "When looking at the dataset, we also note that the classes are not balanced, as there are a significant number of respondents who have indicated the absence of heart disease. To rectify this, the project can do ABC for future iterations.\n",
        "\n",
        "This dataset contains key personal indicators of heart disease in U.S adults - as an example, indicators include whether an individual chooses to drink  or smoke . Through this project, we conduct a binary classification, checking whether a participant is likely to have Heart Disease in the future. We will apply three supervised machine learning algorithms to test this: Native Bayes, Multilayer Perception, and Logistic Regression.\n",
        "\n",
        "\n",
        "Aside from our goal to better predict risk of Heart Disease in adults, this project will augment our ability to understand and predict behavioral risk factors in the detection of Heart Disease."
      ],
      "metadata": {
        "id": "KZpop5CzcJx3"
      }
    },
    {
      "cell_type": "markdown",
      "source": [
        "# **2. Analyze your dataset**\n",
        "\n",
        "---\n",
        "\n"
      ],
      "metadata": {
        "id": "Ti3TRqUdcwYL"
      }
    },
    {
      "cell_type": "markdown",
      "source": [
        "General Overview of the Dataset\n",
        "---\n"
      ],
      "metadata": {
        "id": "vQ4JYaFZ0vZ2"
      }
    },
    {
      "cell_type": "code",
      "source": [
        "# All necessary imports will be placed here, we will utilize scikit-learn, matplotlib, and pandas.\n",
        "import pandas as pandas\n",
        "import sklearn\n",
        "import matplotlib.pyplot as plt\n",
        "import seaborn as seaborn\n",
        "import numpy as numpy\n",
        "\n",
        "from sklearn import preprocessing\n",
        "from sklearn.preprocessing import LabelEncoder\n",
        "from sklearn.preprocessing import OrdinalEncoder\n",
        "from sklearn.preprocessing import StandardScaler\n",
        "from sklearn.model_selection import train_test_split\n",
        "\n",
        "#  Read the Data\n",
        "csv_file = \"https://raw.githubusercontent.com/AmitShanbhoug/CSI4106_Project1_Classification/main/heart_2020_cleaned.csv\"\n",
        "\n",
        "# Place the dataset into a format we can use: Dataframe\n",
        "data_df = pandas.read_csv(csv_file)\n",
        "print(\"Dataset Columns: \")\n",
        "print(list(data_df))\n",
        "\n",
        "#Show name and data type of each column in the dataset\n",
        "data_df.info()\n",
        "\n",
        "# Commented out for future deletion\n",
        "#data_df = pandas.read_csv(\"sample_data/heart_2020_cleaned.csv\")"
      ],
      "metadata": {
        "id": "k8t6oHcRx39V",
        "colab": {
          "base_uri": "https://localhost:8080/"
        },
        "outputId": "6340d2ed-49ad-4ed0-a480-d39945ad3679"
      },
      "execution_count": 27,
      "outputs": [
        {
          "output_type": "stream",
          "name": "stdout",
          "text": [
            "Dataset Columns: \n",
            "['HeartDisease', 'BMI', 'Smoking', 'AlcoholDrinking', 'Stroke', 'PhysicalHealth', 'MentalHealth', 'DiffWalking', 'Sex', 'AgeCategory', 'Race', 'Diabetic', 'PhysicalActivity', 'GenHealth', 'SleepTime', 'Asthma', 'KidneyDisease', 'SkinCancer']\n",
            "<class 'pandas.core.frame.DataFrame'>\n",
            "RangeIndex: 319795 entries, 0 to 319794\n",
            "Data columns (total 18 columns):\n",
            " #   Column            Non-Null Count   Dtype  \n",
            "---  ------            --------------   -----  \n",
            " 0   HeartDisease      319795 non-null  object \n",
            " 1   BMI               319795 non-null  float64\n",
            " 2   Smoking           319795 non-null  object \n",
            " 3   AlcoholDrinking   319795 non-null  object \n",
            " 4   Stroke            319795 non-null  object \n",
            " 5   PhysicalHealth    319795 non-null  float64\n",
            " 6   MentalHealth      319795 non-null  float64\n",
            " 7   DiffWalking       319795 non-null  object \n",
            " 8   Sex               319795 non-null  object \n",
            " 9   AgeCategory       319795 non-null  object \n",
            " 10  Race              319795 non-null  object \n",
            " 11  Diabetic          319795 non-null  object \n",
            " 12  PhysicalActivity  319795 non-null  object \n",
            " 13  GenHealth         319795 non-null  object \n",
            " 14  SleepTime         319795 non-null  float64\n",
            " 15  Asthma            319795 non-null  object \n",
            " 16  KidneyDisease     319795 non-null  object \n",
            " 17  SkinCancer        319795 non-null  object \n",
            "dtypes: float64(4), object(14)\n",
            "memory usage: 43.9+ MB\n"
          ]
        }
      ]
    },
    {
      "cell_type": "markdown",
      "source": [
        "**Column Name Explanation**:\n",
        "\n",
        "| Column | Explanation |\n",
        "\n",
        "\n",
        "\n",
        "1.   HeartDisease: Variable to indicate either absence or presence of Heart Disease (yes/no)\n",
        "\n",
        "2.   BMI:\n",
        "\n",
        "3. Smoking: \n",
        "\n",
        "4. AlcoholDrinking:\n",
        "\n",
        "5. Stroke:\n",
        "\n",
        "6\n",
        "\n",
        "\n"
      ],
      "metadata": {
        "id": "eYXn0_VEIhEp"
      }
    },
    {
      "cell_type": "markdown",
      "source": [
        "This output showcase the 18th column in the dataset. The column labelled 'HeartDisease' is class, while the other 17 columns act as the features. This output also illustrates that our dataset has no missing values."
      ],
      "metadata": {
        "id": "N6iyxvK7ymb5"
      }
    },
    {
      "cell_type": "code",
      "source": [
        "missing_data = pandas.DataFrame({'total_missing': data_df.isnull().sum(), 'perc_missing': (data_df.isnull().sum()/319795)*100})\n",
        "missing_data"
      ],
      "metadata": {
        "id": "ZONwt3vxWzad",
        "colab": {
          "base_uri": "https://localhost:8080/",
          "height": 614
        },
        "outputId": "55cebb1a-3e5e-45b4-9712-17eba52c285c"
      },
      "execution_count": 31,
      "outputs": [
        {
          "output_type": "execute_result",
          "data": {
            "text/plain": [
              "                  total_missing  perc_missing\n",
              "HeartDisease                  0           0.0\n",
              "BMI                           0           0.0\n",
              "Smoking                       0           0.0\n",
              "AlcoholDrinking               0           0.0\n",
              "Stroke                        0           0.0\n",
              "PhysicalHealth                0           0.0\n",
              "MentalHealth                  0           0.0\n",
              "DiffWalking                   0           0.0\n",
              "Sex                           0           0.0\n",
              "AgeCategory                   0           0.0\n",
              "Race                          0           0.0\n",
              "Diabetic                      0           0.0\n",
              "PhysicalActivity              0           0.0\n",
              "GenHealth                     0           0.0\n",
              "SleepTime                     0           0.0\n",
              "Asthma                        0           0.0\n",
              "KidneyDisease                 0           0.0\n",
              "SkinCancer                    0           0.0"
            ],
            "text/html": [
              "\n",
              "  <div id=\"df-535a7695-8777-43cd-bf8a-35593aa0bd5b\">\n",
              "    <div class=\"colab-df-container\">\n",
              "      <div>\n",
              "<style scoped>\n",
              "    .dataframe tbody tr th:only-of-type {\n",
              "        vertical-align: middle;\n",
              "    }\n",
              "\n",
              "    .dataframe tbody tr th {\n",
              "        vertical-align: top;\n",
              "    }\n",
              "\n",
              "    .dataframe thead th {\n",
              "        text-align: right;\n",
              "    }\n",
              "</style>\n",
              "<table border=\"1\" class=\"dataframe\">\n",
              "  <thead>\n",
              "    <tr style=\"text-align: right;\">\n",
              "      <th></th>\n",
              "      <th>total_missing</th>\n",
              "      <th>perc_missing</th>\n",
              "    </tr>\n",
              "  </thead>\n",
              "  <tbody>\n",
              "    <tr>\n",
              "      <th>HeartDisease</th>\n",
              "      <td>0</td>\n",
              "      <td>0.0</td>\n",
              "    </tr>\n",
              "    <tr>\n",
              "      <th>BMI</th>\n",
              "      <td>0</td>\n",
              "      <td>0.0</td>\n",
              "    </tr>\n",
              "    <tr>\n",
              "      <th>Smoking</th>\n",
              "      <td>0</td>\n",
              "      <td>0.0</td>\n",
              "    </tr>\n",
              "    <tr>\n",
              "      <th>AlcoholDrinking</th>\n",
              "      <td>0</td>\n",
              "      <td>0.0</td>\n",
              "    </tr>\n",
              "    <tr>\n",
              "      <th>Stroke</th>\n",
              "      <td>0</td>\n",
              "      <td>0.0</td>\n",
              "    </tr>\n",
              "    <tr>\n",
              "      <th>PhysicalHealth</th>\n",
              "      <td>0</td>\n",
              "      <td>0.0</td>\n",
              "    </tr>\n",
              "    <tr>\n",
              "      <th>MentalHealth</th>\n",
              "      <td>0</td>\n",
              "      <td>0.0</td>\n",
              "    </tr>\n",
              "    <tr>\n",
              "      <th>DiffWalking</th>\n",
              "      <td>0</td>\n",
              "      <td>0.0</td>\n",
              "    </tr>\n",
              "    <tr>\n",
              "      <th>Sex</th>\n",
              "      <td>0</td>\n",
              "      <td>0.0</td>\n",
              "    </tr>\n",
              "    <tr>\n",
              "      <th>AgeCategory</th>\n",
              "      <td>0</td>\n",
              "      <td>0.0</td>\n",
              "    </tr>\n",
              "    <tr>\n",
              "      <th>Race</th>\n",
              "      <td>0</td>\n",
              "      <td>0.0</td>\n",
              "    </tr>\n",
              "    <tr>\n",
              "      <th>Diabetic</th>\n",
              "      <td>0</td>\n",
              "      <td>0.0</td>\n",
              "    </tr>\n",
              "    <tr>\n",
              "      <th>PhysicalActivity</th>\n",
              "      <td>0</td>\n",
              "      <td>0.0</td>\n",
              "    </tr>\n",
              "    <tr>\n",
              "      <th>GenHealth</th>\n",
              "      <td>0</td>\n",
              "      <td>0.0</td>\n",
              "    </tr>\n",
              "    <tr>\n",
              "      <th>SleepTime</th>\n",
              "      <td>0</td>\n",
              "      <td>0.0</td>\n",
              "    </tr>\n",
              "    <tr>\n",
              "      <th>Asthma</th>\n",
              "      <td>0</td>\n",
              "      <td>0.0</td>\n",
              "    </tr>\n",
              "    <tr>\n",
              "      <th>KidneyDisease</th>\n",
              "      <td>0</td>\n",
              "      <td>0.0</td>\n",
              "    </tr>\n",
              "    <tr>\n",
              "      <th>SkinCancer</th>\n",
              "      <td>0</td>\n",
              "      <td>0.0</td>\n",
              "    </tr>\n",
              "  </tbody>\n",
              "</table>\n",
              "</div>\n",
              "      <button class=\"colab-df-convert\" onclick=\"convertToInteractive('df-535a7695-8777-43cd-bf8a-35593aa0bd5b')\"\n",
              "              title=\"Convert this dataframe to an interactive table.\"\n",
              "              style=\"display:none;\">\n",
              "        \n",
              "  <svg xmlns=\"http://www.w3.org/2000/svg\" height=\"24px\"viewBox=\"0 0 24 24\"\n",
              "       width=\"24px\">\n",
              "    <path d=\"M0 0h24v24H0V0z\" fill=\"none\"/>\n",
              "    <path d=\"M18.56 5.44l.94 2.06.94-2.06 2.06-.94-2.06-.94-.94-2.06-.94 2.06-2.06.94zm-11 1L8.5 8.5l.94-2.06 2.06-.94-2.06-.94L8.5 2.5l-.94 2.06-2.06.94zm10 10l.94 2.06.94-2.06 2.06-.94-2.06-.94-.94-2.06-.94 2.06-2.06.94z\"/><path d=\"M17.41 7.96l-1.37-1.37c-.4-.4-.92-.59-1.43-.59-.52 0-1.04.2-1.43.59L10.3 9.45l-7.72 7.72c-.78.78-.78 2.05 0 2.83L4 21.41c.39.39.9.59 1.41.59.51 0 1.02-.2 1.41-.59l7.78-7.78 2.81-2.81c.8-.78.8-2.07 0-2.86zM5.41 20L4 18.59l7.72-7.72 1.47 1.35L5.41 20z\"/>\n",
              "  </svg>\n",
              "      </button>\n",
              "      \n",
              "  <style>\n",
              "    .colab-df-container {\n",
              "      display:flex;\n",
              "      flex-wrap:wrap;\n",
              "      gap: 12px;\n",
              "    }\n",
              "\n",
              "    .colab-df-convert {\n",
              "      background-color: #E8F0FE;\n",
              "      border: none;\n",
              "      border-radius: 50%;\n",
              "      cursor: pointer;\n",
              "      display: none;\n",
              "      fill: #1967D2;\n",
              "      height: 32px;\n",
              "      padding: 0 0 0 0;\n",
              "      width: 32px;\n",
              "    }\n",
              "\n",
              "    .colab-df-convert:hover {\n",
              "      background-color: #E2EBFA;\n",
              "      box-shadow: 0px 1px 2px rgba(60, 64, 67, 0.3), 0px 1px 3px 1px rgba(60, 64, 67, 0.15);\n",
              "      fill: #174EA6;\n",
              "    }\n",
              "\n",
              "    [theme=dark] .colab-df-convert {\n",
              "      background-color: #3B4455;\n",
              "      fill: #D2E3FC;\n",
              "    }\n",
              "\n",
              "    [theme=dark] .colab-df-convert:hover {\n",
              "      background-color: #434B5C;\n",
              "      box-shadow: 0px 1px 3px 1px rgba(0, 0, 0, 0.15);\n",
              "      filter: drop-shadow(0px 1px 2px rgba(0, 0, 0, 0.3));\n",
              "      fill: #FFFFFF;\n",
              "    }\n",
              "  </style>\n",
              "\n",
              "      <script>\n",
              "        const buttonEl =\n",
              "          document.querySelector('#df-535a7695-8777-43cd-bf8a-35593aa0bd5b button.colab-df-convert');\n",
              "        buttonEl.style.display =\n",
              "          google.colab.kernel.accessAllowed ? 'block' : 'none';\n",
              "\n",
              "        async function convertToInteractive(key) {\n",
              "          const element = document.querySelector('#df-535a7695-8777-43cd-bf8a-35593aa0bd5b');\n",
              "          const dataTable =\n",
              "            await google.colab.kernel.invokeFunction('convertToInteractive',\n",
              "                                                     [key], {});\n",
              "          if (!dataTable) return;\n",
              "\n",
              "          const docLinkHtml = 'Like what you see? Visit the ' +\n",
              "            '<a target=\"_blank\" href=https://colab.research.google.com/notebooks/data_table.ipynb>data table notebook</a>'\n",
              "            + ' to learn more about interactive tables.';\n",
              "          element.innerHTML = '';\n",
              "          dataTable['output_type'] = 'display_data';\n",
              "          await google.colab.output.renderOutput(dataTable, element);\n",
              "          const docLink = document.createElement('div');\n",
              "          docLink.innerHTML = docLinkHtml;\n",
              "          element.appendChild(docLink);\n",
              "        }\n",
              "      </script>\n",
              "    </div>\n",
              "  </div>\n",
              "  "
            ]
          },
          "metadata": {},
          "execution_count": 31
        }
      ]
    },
    {
      "cell_type": "code",
      "source": [
        "print(data_df.head())"
      ],
      "metadata": {
        "id": "353Ys59CyRcB",
        "colab": {
          "base_uri": "https://localhost:8080/"
        },
        "outputId": "f6131562-2754-4fa1-9a4c-f14112beffeb"
      },
      "execution_count": 29,
      "outputs": [
        {
          "output_type": "stream",
          "name": "stdout",
          "text": [
            "  HeartDisease    BMI Smoking AlcoholDrinking Stroke  PhysicalHealth  \\\n",
            "0           No  16.60     Yes              No     No             3.0   \n",
            "1           No  20.34      No              No    Yes             0.0   \n",
            "2           No  26.58     Yes              No     No            20.0   \n",
            "3           No  24.21      No              No     No             0.0   \n",
            "4           No  23.71      No              No     No            28.0   \n",
            "\n",
            "   MentalHealth DiffWalking     Sex  AgeCategory   Race Diabetic  \\\n",
            "0          30.0          No  Female        55-59  White      Yes   \n",
            "1           0.0          No  Female  80 or older  White       No   \n",
            "2          30.0          No    Male        65-69  White      Yes   \n",
            "3           0.0          No  Female        75-79  White       No   \n",
            "4           0.0         Yes  Female        40-44  White       No   \n",
            "\n",
            "  PhysicalActivity  GenHealth  SleepTime Asthma KidneyDisease SkinCancer  \n",
            "0              Yes  Very good        5.0    Yes            No        Yes  \n",
            "1              Yes  Very good        7.0     No            No         No  \n",
            "2              Yes       Fair        8.0    Yes            No         No  \n",
            "3               No       Good        6.0     No            No        Yes  \n",
            "4              Yes  Very good        8.0     No            No         No  \n"
          ]
        }
      ]
    },
    {
      "cell_type": "markdown",
      "source": [
        "Here is a sample of the dataset: \n",
        "\n",
        "Binary Categories - HeartDisease, Smoking, AlcoholDrinking, Stroke, DiffWaking, Sex, Diabetic, PhysicalActivity, Asthema, KidneyDisease, and SkinCancer\n",
        "\n",
        "Non-Binary Categories - BMI, PhysicalHealth, MentalHealth, AgeCategory, Race, GenHealth, SleepTime"
      ],
      "metadata": {
        "id": "Ug8BGWB6zqgm"
      }
    },
    {
      "cell_type": "markdown",
      "source": [
        "*Measures For the Dataset*"
      ],
      "metadata": {
        "id": "4xMXr7oJ42lw"
      }
    },
    {
      "cell_type": "code",
      "source": [
        "#Rows \n",
        "print(\"The total number of rows are: \",(len(data_df)))\n",
        "#Columns\n",
        "print(\"The total number of columns: \",(len(data_df.columns)))\n",
        "#Total\n",
        "print(\"the total number of data is: \",(data_df.size))\n",
        "print(\"-----------------------------------\")\n",
        "\n",
        "print(\"Numeric and statistic measures for all Continuous Features (Numeric Variables)\\n\")\n",
        "print(data_df.describe())\n"
      ],
      "metadata": {
        "id": "7oVtzEw4W_Cs",
        "colab": {
          "base_uri": "https://localhost:8080/"
        },
        "outputId": "a9cf978e-287e-4ed4-8a76-1e830f26bbde"
      },
      "execution_count": 23,
      "outputs": [
        {
          "output_type": "stream",
          "name": "stdout",
          "text": [
            "The total number of rows are:  319795\n",
            "The total number of columns:  18\n",
            "the total number of data is:  5756310\n",
            "-----------------------------------\n",
            "Numeric and statistic measures for all Continuous Features (Numeric Variables)\n",
            "\n",
            "                 BMI  PhysicalHealth   MentalHealth      SleepTime\n",
            "count  319795.000000    319795.00000  319795.000000  319795.000000\n",
            "mean       28.325399         3.37171       3.898366       7.097075\n",
            "std         6.356100         7.95085       7.955235       1.436007\n",
            "min        12.020000         0.00000       0.000000       1.000000\n",
            "25%        24.030000         0.00000       0.000000       6.000000\n",
            "50%        27.340000         0.00000       0.000000       7.000000\n",
            "75%        31.420000         2.00000       3.000000       8.000000\n",
            "max        94.850000        30.00000      30.000000      24.000000\n"
          ]
        }
      ]
    },
    {
      "cell_type": "markdown",
      "source": [
        "Previous Probabilities and Bias: What Can We Calculate Now \n",
        "---\n"
      ],
      "metadata": {
        "id": "nTKAjobV0zQO"
      }
    },
    {
      "cell_type": "code",
      "source": [
        "for yesOrNo in data_df['HeartDisease'].value_counts().iteritems():\n",
        "    print(\"The Prior Probability of\", yesOrNo[0], \"is\", round((yesOrNo[1] / data_df['HeartDisease'].shape[0]*100),2),\"%\")"
      ],
      "metadata": {
        "id": "bJQAGOqw33p_"
      },
      "execution_count": null,
      "outputs": []
    },
    {
      "cell_type": "markdown",
      "source": [
        "# ***3. Brainstorm about the attributes (Feature engineering)***\n",
        "\n",
        "---\n",
        "\n",
        "\n"
      ],
      "metadata": {
        "id": "xvNyvr74cwiN"
      }
    },
    {
      "cell_type": "code",
      "source": [
        "print(\"Dataset Columns: \")\n",
        "print(list(data_df))"
      ],
      "metadata": {
        "id": "j0ehIBqOyQ_7"
      },
      "execution_count": null,
      "outputs": []
    },
    {
      "cell_type": "markdown",
      "source": [
        "Convert Binary Columns into A Numerical Format For Graphing\n",
        "---"
      ],
      "metadata": {
        "id": "PDNL48OB6ZSx"
      }
    },
    {
      "cell_type": "code",
      "source": [
        "binary_columns = ['HeartDisease','Smoking', 'AlcoholDrinking','Stroke','DiffWalking', 'Sex', 'PhysicalActivity', 'Asthma', 'KidneyDisease', 'SkinCancer' ]\n",
        "#Convert Binary Columns to 0 or 1\n",
        "data_df[binary_columns] = data_df[binary_columns].apply(LabelEncoder().fit_transform)\n",
        "\n",
        "#Binary Columns New Output after conversion\n",
        "for column in binary_columns:\n",
        "    print(column,data_df[column].unique())"
      ],
      "metadata": {
        "id": "qJcdNEb46Yg5",
        "colab": {
          "base_uri": "https://localhost:8080/"
        },
        "outputId": "72b9ddcd-cd76-4f52-fcd9-dfcc9c43e561"
      },
      "execution_count": 24,
      "outputs": [
        {
          "output_type": "stream",
          "name": "stdout",
          "text": [
            "HeartDisease [0 1]\n",
            "Smoking [1 0]\n",
            "AlcoholDrinking [0 1]\n",
            "Stroke [0 1]\n",
            "DiffWalking [0 1]\n",
            "Sex [0 1]\n",
            "PhysicalActivity [1 0]\n",
            "Asthma [1 0]\n",
            "KidneyDisease [0 1]\n",
            "SkinCancer [1 0]\n"
          ]
        }
      ]
    },
    {
      "cell_type": "markdown",
      "source": [
        "Correlations\n",
        "---\n",
        "Using the corr() function from the DataFrame library we can calculate the pairwise correlation matrix of all columns in the dataset"
      ],
      "metadata": {
        "id": "_tQqxymt5OdY"
      }
    },
    {
      "cell_type": "code",
      "source": [
        "#Pairwise Correlation of Continuous Features\n",
        "plt.figure(figsize=(12, 8))\n",
        "seaborn.heatmap(data_df.corr(), annot=True)"
      ],
      "metadata": {
        "id": "44es34dX5UPp"
      },
      "execution_count": null,
      "outputs": []
    },
    {
      "cell_type": "markdown",
      "source": [
        "Choosing Our Features\n",
        "---\n",
        "We decided to keep certain features based on their relevancy to a participants general health and the affect of certain features directly on heart diease. We feel that each one picked will affect the weights our system in a manner that is relevant to the end result we want. \n",
        "\n",
        "Features Picked: HeartDisease, Smoking, AlcoholDrinking, BMI, Sex, Kidney Disease, Mental Health, Physical Health, Age Category, Race, and Physical Activity"
      ],
      "metadata": {
        "id": "C620kJN4JUJl"
      }
    },
    {
      "cell_type": "code",
      "source": [
        "#Drop Unrelated Categories\n",
        "data_df.pop('Stroke')\n",
        "data_df.pop('DiffWalking')\n",
        "data_df.pop('SleepTime')\n",
        "data_df.pop('Asthma')\n",
        "data_df.pop('SkinCancer')\n",
        "data_df.pop('GenHealth')\n",
        "data_df.pop('Diabetic')\n",
        "data_df.info()"
      ],
      "metadata": {
        "id": "2tXBP2GgLSOg"
      },
      "execution_count": null,
      "outputs": []
    },
    {
      "cell_type": "markdown",
      "source": [
        "Exploring Our Chosen Features\n",
        "---"
      ],
      "metadata": {
        "id": "XXWWoJT85aIa"
      }
    },
    {
      "cell_type": "code",
      "source": [
        "# Plotting Distributions using Histograms for Numerical Features\n",
        "data_df.hist(bins=50, figsize=(20,15), color='g')\n",
        "plt.show()"
      ],
      "metadata": {
        "id": "R0e8agMR5dCT"
      },
      "execution_count": null,
      "outputs": []
    },
    {
      "cell_type": "code",
      "source": [
        "#Plotting the Distribution using a Horizontal Bar Chart for Categorical Features\n",
        "def create_barh (columnNames):\n",
        "  for col in columnNames:\n",
        "    plt.figure()\n",
        "    data_df[col].value_counts().plot(kind=\"barh\", title=col, color='r')\n",
        "    plt.show\n",
        "  \n",
        "create_barh(['Race', 'AgeCategory'])"
      ],
      "metadata": {
        "id": "WpS5_rWD5hH-"
      },
      "execution_count": null,
      "outputs": []
    },
    {
      "cell_type": "markdown",
      "source": [
        "# ***4. Encode the features***\n",
        "\n",
        "---\n",
        "\n"
      ],
      "metadata": {
        "id": "qqf-rQo6cwuI"
      }
    },
    {
      "cell_type": "markdown",
      "source": [
        "Encoding Columns to Numerical Representations\n",
        "---\n",
        "Binary Columns are converted to 0 and 1 using the \n",
        "\n",
        "*   Binary Columns are converted in 0 and 1s using the label encoder function (Already Done Earlier)\n",
        "*   Nominal Columns are converted using One Hot Endoding (split into multiple columns)"
      ],
      "metadata": {
        "id": "unJAt5xv5pCd"
      }
    },
    {
      "cell_type": "code",
      "source": [
        "#Convert Heart Disease to True or False\n",
        "data_df['HeartDisease'] = data_df['HeartDisease'].map({1: 'TRUE', 0: 'FALSE'})\n",
        "\n",
        "#Unique Values From Each Column \n",
        "columns = data_df.columns\n",
        "for column in columns:\n",
        "    print(column,data_df[column].unique())"
      ],
      "metadata": {
        "id": "eeUGV0cI5oDZ"
      },
      "execution_count": null,
      "outputs": []
    },
    {
      "cell_type": "code",
      "source": [
        "from sklearn import preprocessing\n",
        "from sklearn.preprocessing import OneHotEncoder\n",
        "\n",
        "#Encoding Columns\n",
        "onehot_categories = ['AgeCategory','Race']\n",
        "\n",
        "#Convert Binary Columns to 0 or 1, Done Above but placing code here too\n",
        "#data_df[binary_columns] = data_df[binary_columns].apply(LabelEncoder().fit_transform)\n",
        "\n",
        "#Get rid of nan values\n",
        "data_df=data_df.dropna()\n",
        "\n",
        "#Convert Categorical Data using One Hot Encoding\n",
        "new_data_df = pandas.get_dummies(data_df, columns=onehot_categories, drop_first=False)\n",
        "#data_df = pandas.get_dummies(data_df)\n",
        "\n",
        "\n",
        "print(new_data_df.head())"
      ],
      "metadata": {
        "id": "n4f2zIeJ5vOX"
      },
      "execution_count": null,
      "outputs": []
    },
    {
      "cell_type": "markdown",
      "source": [
        "We have finished converting all Categorical data into a numerical representation with Binary Categories being assigned 0 or 1 and Nominal Categories being converted into multiple columns using One Hot Encoding"
      ],
      "metadata": {
        "id": "1oz_gAbQ5zPj"
      }
    },
    {
      "cell_type": "markdown",
      "source": [
        "# ***5. Prepare your data for the experiment, using cross-validation***\n",
        "\n",
        "---\n",
        "\n",
        "\n"
      ],
      "metadata": {
        "id": "9n7eaMKUcw2a"
      }
    },
    {
      "cell_type": "markdown",
      "source": [
        "Split into training and dataset\n",
        "---"
      ],
      "metadata": {
        "id": "oE2P96uO546M"
      }
    },
    {
      "cell_type": "code",
      "source": [
        "# split the large dataset into train and test\n",
        "from sklearn.model_selection import train_test_split\n",
        "from sklearn.preprocessing import StandardScaler\n",
        "\n",
        "predictedClass = new_data_df.pop(\"HeartDisease\").values\n",
        "X_train, X_test, y_train, y_test = train_test_split(new_data_df, predictedClass, test_size = 0.25, random_state=1)\n",
        "\n",
        "#Standardize Data\n",
        "scaler = StandardScaler()\n",
        "scaler.fit(X_train)\n",
        "X_train = scaler.transform(X_train)\n",
        "X_test = scaler.transform(X_test)\n",
        "\n",
        "# Size of our training and test data\n",
        "X_train.shape, X_test.shape, y_train.shape, y_test.shape"
      ],
      "metadata": {
        "id": "UFkKO2-x56RZ"
      },
      "execution_count": null,
      "outputs": []
    },
    {
      "cell_type": "markdown",
      "source": [
        "# ***6. Prepare your data for the experiment, using cross-validation***\n",
        "\n",
        "---\n",
        "\n"
      ],
      "metadata": {
        "id": "Y2951ra-cw-Y"
      }
    },
    {
      "cell_type": "markdown",
      "source": [
        "*6A: Native Bayes*\n",
        "---"
      ],
      "metadata": {
        "id": "ZyfL9CpfTUyc"
      }
    },
    {
      "cell_type": "markdown",
      "source": [
        "*6B: Logistic Regression*\n",
        "---"
      ],
      "metadata": {
        "id": "R9wkA5mJTU7t"
      }
    },
    {
      "cell_type": "markdown",
      "source": [
        "*6C: Multi Layer Perceptron*\n",
        "---"
      ],
      "metadata": {
        "id": "jN9ID0afcxE5"
      }
    },
    {
      "cell_type": "markdown",
      "source": [
        "Default Parameters Variation Test"
      ],
      "metadata": {
        "id": "yqTMtFO2C4_3"
      }
    },
    {
      "cell_type": "code",
      "source": [
        "#Importing MLPClassifier\n",
        "from sklearn.neural_network import MLPClassifier\n",
        "#Importing Confusion Matrix\n",
        "from sklearn.metrics import confusion_matrix, ConfusionMatrixDisplay\n",
        "from sklearn.metrics import plot_confusion_matrix\n",
        "from sklearn import metrics\n",
        "\n",
        "\n",
        "#Initializing the Default MLPClassifier\n",
        "classifier = MLPClassifier()\n",
        "\n",
        "\n",
        "#Fitting the training data to the network, 3 runs\n",
        "print(\"Training Begins\")\n",
        "for i in range (4):\n",
        "    print(\"Training Run commenced: \", i)\n",
        "    classifier.fit(X_train, y_train)\n",
        "    print(\"the score for this run is: \",classifier.score(X_train, y_train))\n",
        "print(\"Training Done\")\n",
        "\n",
        "print()\n",
        "print(\"Final Training Score: \", classifier.score(X_train, y_train))\n",
        "print(\"Final Test Score: \", classifier.score(X_test, y_test))\n",
        "\n",
        "\n",
        "y_pred = classifier.predict(X_test)\n",
        "\n",
        "print()\n",
        "print(metrics.classification_report(y_test, y_pred))\n",
        "print(metrics.confusion_matrix(y_test, y_pred))\n",
        "\n",
        "#Printing the accuracy\n",
        "print()\n",
        "print (f'Accuracy Score: {classifier.score(X_test,y_test):.3f}')\n",
        "\n",
        "#Plot the confusion matrix - This method has been depreciated\n",
        "#fig = plot_confusion_matrix(classifier, X_test, y_test, display_labels=classifier.classes_)\n",
        "#fig.figure_.suptitle(\"Confusion Matrix for Heart Disease Dataset MLP Default Variation \")\n",
        "#plt.show()\n",
        "print()\n",
        "cm = confusion_matrix(y_test, y_pred)\n",
        "cm_obj = ConfusionMatrixDisplay(confusion_matrix=cm, display_labels=classifier.classes_)\n",
        "cm_obj.plot()\n",
        "plt.show()\n",
        "\n",
        "#Loss Curve\n",
        "print()\n",
        "plt.plot(classifier.loss_curve_)\n",
        "plt.title(\"Loss Curve MLP Default Variation\", fontsize=14)\n",
        "plt.xlabel('Iterations')\n",
        "plt.ylabel('Cost')\n",
        "plt.show()"
      ],
      "metadata": {
        "id": "eJVhJG8gLwnJ"
      },
      "execution_count": null,
      "outputs": []
    },
    {
      "cell_type": "markdown",
      "source": [
        "Default Parameter Variation Sample of Predictions"
      ],
      "metadata": {
        "id": "9IGixuDGC_JR"
      }
    },
    {
      "cell_type": "code",
      "source": [
        "#Predictions for Training Set\n",
        "print(\"--------Training Predictions--------\")\n",
        "y_pred_sample = classifier.predict(X_train[0:10])\n",
        "print(\"Predictions from MLP Default For First Ten Values of Training Set: \" , y_pred_sample)\n",
        "print(\"Actual Values For First Ten Values of Training Set:\", y_train[0:10])\n",
        "print(\"Array showing probability of each prediction being correct\")\n",
        "print(classifier.predict_proba(X_train[0:10]))\n",
        "\n",
        "print() #A seperator\n",
        "\n",
        "#Predictions for Test Set\n",
        "print(\"--------Test Predictions--------\")\n",
        "y_pred_sample = classifier.predict(X_test[0:10])\n",
        "print(\"Predictions from MLP Default For First Ten Values of Test Set: \" , y_pred_sample)\n",
        "print(\"Actual Values First Ten Values of Test Set:\", y_test[0:10])\n",
        "print(\"Array showing probability of each prediction being correct\")\n",
        "print(classifier.predict_proba(X_test[0:10]))\n",
        "\n"
      ],
      "metadata": {
        "id": "r0OfY8uYEDol"
      },
      "execution_count": null,
      "outputs": []
    },
    {
      "cell_type": "markdown",
      "source": [
        "Variation 1 Test"
      ],
      "metadata": {
        "id": "gZPMLqNjDFSL"
      }
    },
    {
      "cell_type": "code",
      "source": [
        "#Importing MLPClassifier\n",
        "from sklearn.neural_network import MLPClassifier\n",
        "#Importing Confusion Matrix\n",
        "from sklearn.metrics import confusion_matrix\n",
        "from sklearn.metrics import plot_confusion_matrix\n",
        "from sklearn import metrics\n",
        "\n",
        "#Initializing the MLPClassifier with variations\n",
        "classifier_var1 = MLPClassifier(hidden_layer_sizes=(5,2), max_iter=300,activation = 'relu',solver='adam',random_state=1)\n",
        "#classifier = MLPClassifier(hidden_layer_sizes=(150,100,50), max_iter=300,activation = 'relu',solver='adam',random_state=1)\n",
        "\n",
        "#Fitting the training data to the network, 3 runs\n",
        "print(\"Training Begins\")\n",
        "for i in range (4):\n",
        "    print(\"Training Run commenced: \", i)\n",
        "    classifier_var1.fit(X_train, y_train)\n",
        "    print(\"the score for this run is: \",classifier_var1.score(X_train, y_train))\n",
        "print(\"Training Done\")\n",
        "\n",
        "print()\n",
        "print(\"Final Training Score: \", classifier_var1.score(X_train, y_train))\n",
        "print(\"Final Test Score: \", classifier_var1.score(X_test, y_test))\n",
        "\n",
        "\n",
        "y_pred = classifier_var1.predict(X_test)\n",
        "\n",
        "print()\n",
        "print(metrics.classification_report(y_test, y_pred))\n",
        "print(metrics.confusion_matrix(y_test, y_pred))\n",
        "\n",
        "#Printing the accuracy\n",
        "print()\n",
        "print (f'Accuracy Score: {classifier_var1.score(X_test,y_test):.3f}')\n",
        "\n",
        "# #Plot the confusion matrix\n",
        "# fig = plot_confusion_matrix(classifier_var1, X_test, y_test, display_labels=classifier_var1.classes_)\n",
        "# fig.figure_.suptitle(\"Confusion Matrix for Heart Disease Dataset MLP Variation 1\")\n",
        "# plt.show()\n",
        "print()\n",
        "cm = confusion_matrix(y_test, y_pred)\n",
        "cm_obj = ConfusionMatrixDisplay(confusion_matrix=cm, display_labels=classifier.classes_)\n",
        "cm_obj.plot()\n",
        "plt.show()\n",
        "\n",
        "#Loss Curve for Var1\n",
        "print()\n",
        "plt.plot(classifier_var1.loss_curve_)\n",
        "plt.title(\"Loss Curve MLP Variation 1\", fontsize=14)\n",
        "plt.xlabel('Iterations')\n",
        "plt.ylabel('Cost')\n",
        "plt.show()"
      ],
      "metadata": {
        "id": "Y8nPOEm21QPT"
      },
      "execution_count": null,
      "outputs": []
    },
    {
      "cell_type": "markdown",
      "source": [
        "Variation 1 Sample of Predictions"
      ],
      "metadata": {
        "id": "A6fW6mAOcxLd"
      }
    },
    {
      "cell_type": "code",
      "source": [
        "#Predictions for Training Set\n",
        "print(\"--------Training Predictions--------\")\n",
        "y_pred_sample = classifier_var1.predict(X_train[0:10])\n",
        "print(\"Predictions from MLP Default For First Ten Values of Training Set: \" , y_pred_sample)\n",
        "print(\"Actual Values For First Ten Values of Training Set:\", y_train[0:10])\n",
        "print(\"Array showing probability of each prediction being correct\")\n",
        "print(classifier_var1.predict_proba(X_train[0:10]))\n",
        "\n",
        "print() #A seperator\n",
        "\n",
        "#Predictions for Test Set\n",
        "print(\"--------Test Predictions--------\")\n",
        "y_pred_sample = classifier_var1.predict(X_test[0:10])\n",
        "print(\"Predictions from MLP Default For First Ten Values of Test Set: \" , y_pred_sample)\n",
        "print(\"Actual Values For First Ten Values of Test Set:\", y_test[0:10])\n",
        "print(\"Array showing probability of each prediction being correct\")\n",
        "print(classifier_var1.predict_proba(X_test[0:10]))\n"
      ],
      "metadata": {
        "id": "DVrjdljBIxCy"
      },
      "execution_count": null,
      "outputs": []
    },
    {
      "cell_type": "markdown",
      "source": [
        "Variation 2 Test"
      ],
      "metadata": {
        "id": "AiF0ixUFDYV2"
      }
    },
    {
      "cell_type": "code",
      "source": [
        "#Importing MLPClassifier\n",
        "from sklearn.neural_network import MLPClassifier\n",
        "#Importing Confusion Matrix\n",
        "from sklearn.metrics import confusion_matrix\n",
        "from sklearn.metrics import plot_confusion_matrix\n",
        "from sklearn import metrics\n",
        "\n",
        "#Initializing the MLPClassifier with variations again\n",
        "classifier_var2 = MLPClassifier(hidden_layer_sizes=(150, 150), max_iter=100,  solver='sgd', alpha=1e-4, random_state=1, learning_rate_init=0.01, warm_start=True)\n",
        "#classifier = MLPClassifier(hidden_layer_sizes=(150,100,50), max_iter=300,activation = 'relu',solver='adam',random_state=1)\n",
        "\n",
        "\n",
        "#Fitting the training data to the network, 3 runs\n",
        "print(\"Training Begins\")\n",
        "for i in range (4):\n",
        "    print(\"Training Run commenced: \", i)\n",
        "    classifier_var2.fit(X_train, y_train)\n",
        "    print(\"the score for this run is: \",classifier_var2.score(X_train, y_train))\n",
        "print(\"Training Done\")\n",
        "\n",
        "print()\n",
        "print(\"Final Training Score: \", classifier_var2.score(X_train, y_train))\n",
        "print(\"Final Test Score: \", classifier_var2.score(X_test, y_test))\n",
        "\n",
        "\n",
        "y_pred = classifier_var2.predict(X_test)\n",
        "\n",
        "print()\n",
        "print(metrics.classification_report(y_test, y_pred))\n",
        "print(metrics.confusion_matrix(y_test, y_pred))\n",
        "\n",
        "#Printing the accuracy\n",
        "print()\n",
        "print (f'Accuracy Score: {classifier_var2.score(X_test,y_test):.3f}')\n",
        "\n",
        "# #Plot the confusion matrix\n",
        "# fig = plot_confusion_matrix(classifier_var2, X_test, y_test, display_labels=classifier_var2.classes_)\n",
        "# fig.figure_.suptitle(\"Confusion Matrix for Heart Disease Dataset MLP Variation 2\")\n",
        "# plt.show()\n",
        "print()\n",
        "cm = confusion_matrix(y_test, y_pred)\n",
        "cm_obj = ConfusionMatrixDisplay(confusion_matrix=cm, display_labels=classifier.classes_)\n",
        "cm_obj.plot()\n",
        "plt.show()\n",
        "\n",
        "#Loss Curve for Var2\n",
        "print()\n",
        "plt.plot(classifier_var2.loss_curve_)\n",
        "plt.title(\"Loss Curve For MLP Variation 2\", fontsize=14)\n",
        "plt.xlabel('Iterations')\n",
        "plt.ylabel('Cost')\n",
        "plt.show()"
      ],
      "metadata": {
        "id": "SleCND5M1YU_"
      },
      "execution_count": null,
      "outputs": []
    },
    {
      "cell_type": "markdown",
      "source": [
        "Variation 2 Sample of Predictions"
      ],
      "metadata": {
        "id": "hRfuGWfODc1c"
      }
    },
    {
      "cell_type": "code",
      "source": [
        "#Predictions for Training Set\n",
        "print(\"--------Training Predictions--------\")\n",
        "y_pred_sample = classifier_var2.predict(X_train[0:10])\n",
        "print(\"Predictions from MLP Default For First Ten Values of Training Set: \" , y_pred_sample)\n",
        "print(\"Actual Values For First Ten Values of Training Set:\", y_train[0:10])\n",
        "print(\"Array showing probability of each prediction being correct\")\n",
        "print(classifier_var2.predict_proba(X_train[0:10]))\n",
        "\n",
        "print() #A seperator\n",
        "\n",
        "#Predictions for Test Set\n",
        "print(\"--------Test Predictions--------\")\n",
        "y_pred_sample = classifier_var2.predict(X_test[0:10])\n",
        "print(\"Predictions from MLP Default For First Ten Values of Test Set: \" , y_pred_sample)\n",
        "print(\"Actual Values For First Ten Values of Test Set:\", y_test[0:10])\n",
        "print(\"Array showing probability of each prediction being correct\")\n",
        "print(classifier_var2.predict_proba(X_test[0:10]))"
      ],
      "metadata": {
        "id": "v7SuzVNhI4EN"
      },
      "execution_count": null,
      "outputs": []
    },
    {
      "cell_type": "markdown",
      "source": [
        "# **10. Analyze the obtained results**\n",
        "\n",
        "---\n",
        "\n"
      ],
      "metadata": {
        "id": "XLeGv3N0jcA2"
      }
    }
  ]
}